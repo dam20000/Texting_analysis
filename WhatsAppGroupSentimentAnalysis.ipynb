{
  "nbformat": 4,
  "nbformat_minor": 0,
  "metadata": {
    "colab": {
      "name": "WhatsAppGroupSentimentAnalysis.ipynb",
      "provenance": [],
      "collapsed_sections": [],
      "include_colab_link": true
    },
    "kernelspec": {
      "name": "python3",
      "display_name": "Python 3"
    }
  },
  "cells": [
    {
      "cell_type": "markdown",
      "metadata": {
        "id": "view-in-github",
        "colab_type": "text"
      },
      "source": [
        "<a href=\"https://colab.research.google.com/github/dam20000/Texting_analysis/blob/main/WhatsAppGroupSentimentAnalysis.ipynb\" target=\"_parent\"><img src=\"https://colab.research.google.com/assets/colab-badge.svg\" alt=\"Open In Colab\"/></a>"
      ]
    },
    {
      "cell_type": "code",
      "metadata": {
        "id": "GDSFGXQK9oVA"
      },
      "source": [
        "!pip install transformers"
      ],
      "execution_count": null,
      "outputs": []
    },
    {
      "cell_type": "code",
      "metadata": {
        "id": "nh_rC8jrsFmo"
      },
      "source": [
        "import pandas as pd\n",
        "import numpy as np\n",
        "from transformers import AutoTokenizer, AutoModel, pipeline\n",
        "from collections import defaultdict"
      ],
      "execution_count": null,
      "outputs": []
    },
    {
      "cell_type": "code",
      "metadata": {
        "id": "yMUZNobR-1_b"
      },
      "source": [
        "with open('FILE_NAME.txt', encoding=\"utf-8\") as file:\n",
        "  total_chat = file.readlines()"
      ],
      "execution_count": null,
      "outputs": []
    },
    {
      "cell_type": "code",
      "metadata": {
        "id": "M-D5q04nG4-p"
      },
      "source": [
        "# Create a people dictionary of lists where every person's name is the key \n",
        "# and the list of his msgs is the value\n",
        "people = defaultdict(list)\n",
        "for l in total_chat:\n",
        "  sen = l.rstrip(\"\\n\")\n",
        "  if ']' in sen:\n",
        "    name_and_msg = sen.split(']')[1]\n",
        "    if ':' in name_and_msg:\n",
        "      name_and_msg = name_and_msg.strip()\n",
        "      name = name_and_msg.split(':')[0].replace(' ', '_')\n",
        "      msg = name_and_msg.split(':')[1]\n",
        "      people[name].append(msg)\n",
        "\n",
        "# Clean noise made by the subject of the group\n",
        "for person, msgs in people.copy().items():\n",
        "  if len(msgs) < 5:\n",
        "    people.pop(person)\n",
        "\n",
        "# Get the no. of msgs of the person with the fewest no. of msgs\n",
        "min_msgs = np.min([len(msgs) for person, msgs in people.items()])\n",
        "\n",
        "# Align everyone's no. of msgs to his no. of msgs so we can put in a dataframe\n",
        "for person, msgs in people.items():\n",
        "  while len(msgs) > min_msgs:\n",
        "    msgs.pop()\n",
        "\n",
        "df = pd.DataFrame(data=people)\n",
        "df.head()"
      ],
      "execution_count": null,
      "outputs": []
    },
    {
      "cell_type": "code",
      "metadata": {
        "id": "9FuUCV3xCAF-"
      },
      "source": [
        "def get_positivity(string):\n",
        "  states = sentiment_analysis(string)[0]\n",
        "  for state in states:\n",
        "    if state['label'] == 'positive':\n",
        "      break\n",
        "  return state['score']"
      ],
      "execution_count": null,
      "outputs": []
    },
    {
      "cell_type": "code",
      "metadata": {
        "id": "pyT614O50NI4"
      },
      "source": [
        "def get_negativity(string):\n",
        "  states = sentiment_analysis(string)[0]\n",
        "  for state in states:\n",
        "    if state['label'] == 'negative':\n",
        "      break\n",
        "  return state['score']"
      ],
      "execution_count": null,
      "outputs": []
    },
    {
      "cell_type": "code",
      "metadata": {
        "id": "QfQ2sSPDCCkf"
      },
      "source": [
        "def get_neutrality(string):\n",
        "  states = sentiment_analysis(string)[0]\n",
        "  for state in states:\n",
        "    if state['label'] == 'natural':\n",
        "      break\n",
        "  return state['score']"
      ],
      "execution_count": null,
      "outputs": []
    },
    {
      "cell_type": "code",
      "metadata": {
        "id": "JHqFABwEZWfs"
      },
      "source": [
        "tokenizer = AutoTokenizer.from_pretrained(\"avichr/heBERT_sentiment_analysis\")\n",
        "model = AutoModel.from_pretrained(\"avichr/heBERT_sentiment_analysis\")\n",
        "\n",
        "sentiment_analysis = pipeline(\n",
        "    \"sentiment-analysis\",\n",
        "    model=\"avichr/heBERT_sentiment_analysis\",\n",
        "    tokenizer=\"avichr/heBERT_sentiment_analysis\",\n",
        "    return_all_scores = True\n",
        ")"
      ],
      "execution_count": null,
      "outputs": []
    },
    {
      "cell_type": "code",
      "metadata": {
        "id": "Pmz8Jk9FL1OT"
      },
      "source": [
        "for person in df.columns:\n",
        "  df[f'{person}_positivity_index'] = df[person].apply(lambda r: get_positivity(r))\n",
        "  df[f'{person}_negativity_index'] = df[person].apply(lambda r: get_negativity(r))\n",
        "  df[f'{person}_neutrality_index'] = df[person].apply(lambda r: get_neutrality(r))"
      ],
      "execution_count": null,
      "outputs": []
    },
    {
      "cell_type": "code",
      "metadata": {
        "id": "_exdsd5KO6c5"
      },
      "source": [
        "for person in people.keys():\n",
        "  df[f'{person}_positivity_score'] = ((df[f'{person}_positivity_index'] + \n",
        "                                         df[f'{person}_negativity_index']) / 2 + \n",
        "                                        df[f'{person}_neutrality_index']) / 2"
      ],
      "execution_count": null,
      "outputs": []
    },
    {
      "cell_type": "code",
      "metadata": {
        "id": "ejswgK6pTPIE"
      },
      "source": [
        "people_scores = []\n",
        "for name in people.keys():\n",
        "  score = round(df[f'{name}_positivity_score'].mean(), 5)\n",
        "  people_scores.append((name, score))\n",
        "people_scores.sort(reverse=True, key=lambda x:x[1])\n",
        "for person in people_scores:\n",
        "  print(f'{person[0]} positivity score: {person[1]}')"
      ],
      "execution_count": null,
      "outputs": []
    }
  ]
}